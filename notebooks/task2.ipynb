{
 "cells": [
  {
   "cell_type": "code",
   "execution_count": 18,
   "metadata": {
    "collapsed": true,
    "pycharm": {
     "name": "#%%\n"
    }
   },
   "outputs": [
    {
     "name": "stdout",
     "output_type": "stream",
     "text": [
      "[sample data length is 60000 | number of classes is 10]\n",
      "((0, 5923), (1, 6742), (2, 5958), (3, 6131), (4, 5842), (5, 5421), (6, 5918), (7, 6265), (8, 5851), (9, 5949))\n"
     ]
    },
    {
     "name": "stderr",
     "output_type": "stream",
     "text": [
      "100%|██████████| 50/50 [02:00<00:00,  2.42s/it]\n"
     ]
    },
    {
     "data": {
      "text/plain": "<Figure size 640x480 with 1 Axes>",
      "image/png": "[encoded data removed]"
     },
     "metadata": {},
     "output_type": "display_data"
    }
   ],
   "source": [
    "from tqdm import tqdm\n",
    "from numpy import array\n",
    "from layers.loss_functions import CrossEntropy\n",
    "from layers.activation_layer import ActivationLayer\n",
    "import numpy as np\n",
    "from dataloader.dataloader import DataLoader\n",
    "from datasets.mnist_dataset import Dataset\n",
    "from ops.transformations import transform_registry\n",
    "from utils.config import Config\n",
    "from layers.fc_layer import FCLayer\n",
    "from matplotlib import pyplot as plt\n",
    "\n",
    "# num batches to draw\n",
    "N = 3\n",
    "\n",
    "\n",
    "def parse_transform(p_transforms):\n",
    "    transforms = []\n",
    "    for transform in p_transforms:\n",
    "        for name, kwargs in transform.items():\n",
    "            transforms.append(transform_registry.get(name, vars(kwargs)))\n",
    "    return transforms\n",
    "\n",
    "\n",
    "# train\n",
    "train_cfg = Config.from_file('../configs/task1/task1_train.json')\n",
    "train_params = vars(train_cfg.data)\n",
    "train_params['transforms'] = []  #parse_transform(train_params['transforms'])\n",
    "\n",
    "ds = Dataset(**train_params)\n",
    "\n",
    "dl = DataLoader(ds, 10, 'train', False, 64, 'default')\n",
    "ds.read_data()\n",
    "\n",
    "layers = [\n",
    "    FCLayer(28 * 28, 128),\n",
    "    ActivationLayer(128, 128),\n",
    "    FCLayer(128, 10),\n",
    "    ActivationLayer(10, 10, 'sigmoid'),\n",
    "]\n",
    "\n",
    "loss = CrossEntropy()\n",
    "\n",
    "\n",
    "def forward_pass(x):\n",
    "    ip = x\n",
    "    for layer in layers:\n",
    "        ip = layer(ip, 'train')\n",
    "\n",
    "    return ip\n",
    "\n",
    "\n",
    "lambd = 0.01\n",
    "\n",
    "\n",
    "def backprop(loss_grad):\n",
    "    for layer in reversed(layers):\n",
    "        loss_grad = layer.backward(loss_grad)\n",
    "        if layer.trainable:\n",
    "            layer.update_weights(lambda v, grad: v - lambd * grad)\n",
    "\n",
    "\n",
    "# for _ in range(N):\n",
    "#     image, l = next(dl.batch_generator())\n",
    "\n",
    "epoch_acc = []\n",
    "epoch_loss = []\n",
    "for epoch in tqdm(range(50)):\n",
    "    batch_error = []\n",
    "    batch_loss = []\n",
    "    for image, l in dl.batch_generator():\n",
    "        l = array([dl.dataset.one_hot_labels(ll) for ll in l])\n",
    "\n",
    "        shape = np.product(image[0].shape)\n",
    "        flatten = image.reshape((-1, shape)) / 255\n",
    "\n",
    "        res = forward_pass(flatten)\n",
    "        loss_grad = loss.gradient(l, res)\n",
    "        backprop(loss_grad)\n",
    "\n",
    "        batch_error.append(loss.acc(l, res))\n",
    "        batch_loss.append(np.mean(loss.loss(l, res)))\n",
    "\n",
    "    epoch_acc.append(np.mean(batch_error))\n",
    "    epoch_loss.append(np.mean(batch_loss))\n",
    "\n",
    "# plt.plot(range(50), epoch_acc)\n",
    "plt.plot(range(50), epoch_loss)\n",
    "plt.show()"
   ]
  },
  {
   "cell_type": "code",
   "execution_count": 51,
   "outputs": [
    {
     "name": "stdout",
     "output_type": "stream",
     "text": [
      "guessed: 0, actually: 5\n",
      "guessed: 0, actually: 2\n",
      "guessed: 1, actually: 2\n"
     ]
    },
    {
     "data": {
      "text/plain": "<Figure size 640x480 with 1 Axes>",
      "image/png": "[encoded data removed]"
     },
     "metadata": {},
     "output_type": "display_data"
    }
   ],
   "source": [
    "# train\n",
    "train_cfg = Config.from_file('../configs/task1/task1_test.json')\n",
    "train_params = vars(train_cfg.data)\n",
    "train_params['transforms'] = []  #parse_transform(train_params['transforms'])\n",
    "\n",
    "ds = Dataset(**train_params)\n",
    "\n",
    "dl = DataLoader(ds, 10, 'train', False, 64, 'default')\n",
    "ds.read_data(True)\n",
    "# for img, label in dl.batch_generator():\n",
    "img, label = next(dl.batch_generator())\n",
    "for i in range(64):\n",
    "    fimg = img[i].reshape((1, np.product(img[i].shape)))\n",
    "    res = forward_pass(fimg)\n",
    "    if np.argmax(res) != label[i]:\n",
    "        print(f'guessed: {np.argmax(res)}, actually: {label[i]}')\n",
    "        plt.imshow(img[i])\n",
    "        plt.plot()\n",
    "\n"
   ],
   "metadata": {
    "collapsed": false,
    "pycharm": {
     "name": "#%%\n"
    }
   }
  },
  {
   "cell_type": "code",
   "execution_count": null,
   "outputs": [],
   "source": [],
   "metadata": {
    "collapsed": false,
    "pycharm": {
     "name": "#%%\n"
    }
   }
  }
 ],
 "metadata": {
  "kernelspec": {
   "display_name": "Python 3",
   "language": "python",
   "name": "python3"
  },
  "language_info": {
   "codemirror_mode": {
    "name": "ipython",
    "version": 2
   },
   "file_extension": ".py",
   "mimetype": "text/x-python",
   "name": "python",
   "nbconvert_exporter": "python",
   "pygments_lexer": "ipython2",
   "version": "2.7.6"
  }
 },
 "nbformat": 4,
 "nbformat_minor": 0
}